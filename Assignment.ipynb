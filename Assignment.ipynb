{
  "metadata": {
    "kernelspec": {
      "name": "python",
      "display_name": "Python (Pyodide)",
      "language": "python"
    },
    "language_info": {
      "codemirror_mode": {
        "name": "python",
        "version": 3
      },
      "file_extension": ".py",
      "mimetype": "text/x-python",
      "name": "python",
      "nbconvert_exporter": "python",
      "pygments_lexer": "ipython3",
      "version": "3.8"
    }
  },
  "nbformat_minor": 4,
  "nbformat": 4,
  "cells": [
    {
      "cell_type": "raw",
      "source": "Exercise 2 - Create a markdown cell with the title of the notebook. (1 pt)",
      "metadata": {}
    },
    {
      "cell_type": "markdown",
      "source": "# Data Science Tools and Ecosystem",
      "metadata": {}
    },
    {
      "cell_type": "raw",
      "source": "Exercise 3 - Create a markdown cell for an introduction. (1 pt)",
      "metadata": {}
    },
    {
      "cell_type": "markdown",
      "source": "In this notebook, Data Science Tools and Ecosystem are summarized.",
      "metadata": {}
    },
    {
      "cell_type": "raw",
      "source": "Exercise 4 - Create a markdown cell to list data science languages. (3 pts)",
      "metadata": {}
    },
    {
      "cell_type": "markdown",
      "source": "Some of the popular languages that Data Scientists use are:\n1. Python\n1. Java\n1. C++\n1. R\n1. Julia\n1. JavaScript",
      "metadata": {}
    },
    {
      "cell_type": "raw",
      "source": "Exercise 5 - Create a markdown cell to list data science libraries. (3 pts)",
      "metadata": {}
    },
    {
      "cell_type": "markdown",
      "source": "Some of the commonly used libraries used by Data Scientists include:\n1. Matplotlib\n2. Scikit-learn\n3. SciPy\n4. Pandas\n5. Keras\n6. Plotly",
      "metadata": {}
    },
    {
      "cell_type": "raw",
      "source": "Exercise 6 - Create a markdown cell with a table of Data Science tools. (3 pts)",
      "metadata": {}
    },
    {
      "cell_type": "markdown",
      "source": "| Data Science Tools | Apache Spark | RStudio | TensorFlow |\n",
      "metadata": {}
    },
    {
      "cell_type": "raw",
      "source": "Exercise 7 - Create a markdown cell introducing arithmetic expression examples. (1 pt)",
      "metadata": {}
    },
    {
      "cell_type": "markdown",
      "source": "### Below are a few examples of evaluating arithmetic expressions in Python\n",
      "metadata": {}
    },
    {
      "cell_type": "code",
      "source": "# Arithmetic operations\ncode = compile(\"6 + 2\", \"<string>\", \"eval\")\neval(code)\n# Result: 9",
      "metadata": {
        "trusted": true
      },
      "outputs": [
        {
          "execution_count": 25,
          "output_type": "execute_result",
          "data": {
            "text/plain": "8"
          },
          "metadata": {}
        }
      ],
      "execution_count": 25
    },
    {
      "cell_type": "code",
      "source": "# Arithmetic operations\ncode = compile(\"14 * 100\", \"<string>\", \"eval\")\neval(code)\n# Result: 9",
      "metadata": {
        "trusted": true
      },
      "outputs": [
        {
          "execution_count": 26,
          "output_type": "execute_result",
          "data": {
            "text/plain": "1400"
          },
          "metadata": {}
        }
      ],
      "execution_count": 26
    },
    {
      "cell_type": "raw",
      "source": "Exercise 8 - Create a code cell to multiply and add numbers. (2 pts)",
      "metadata": {}
    },
    {
      "cell_type": "code",
      "source": "(3*4)+5",
      "metadata": {
        "trusted": true
      },
      "outputs": [
        {
          "execution_count": 27,
          "output_type": "execute_result",
          "data": {
            "text/plain": "17"
          },
          "metadata": {}
        }
      ],
      "execution_count": 27
    },
    {
      "cell_type": "raw",
      "source": "Exercise 9 - Create a code cell to convert minutes to hours. (2 pts)",
      "metadata": {}
    },
    {
      "cell_type": "markdown",
      "source": "This will convert 200 minutes to hours by diving by 60",
      "metadata": {}
    },
    {
      "cell_type": "code",
      "source": "hours = 0\nmins = 200\nhours = mins / 60\nprint (str(hours) + (\" hours \" ))\n",
      "metadata": {
        "trusted": true
      },
      "outputs": [
        {
          "name": "stdout",
          "text": "3.3333333333333335 hours \n",
          "output_type": "stream"
        }
      ],
      "execution_count": 30
    },
    {
      "cell_type": "raw",
      "source": "Exercise 10 -Insert a markdown cell to list Objectives. (3 pts)",
      "metadata": {}
    },
    {
      "cell_type": "markdown",
      "source": "**Objectives:**\n- Learn Jupyter\n- List popular languages for Data Science\n- List popular libraries for Data Science",
      "metadata": {}
    },
    {
      "cell_type": "raw",
      "source": "Exercise 11 - Create a markdown cell to indicate the Author’s name. (2 pts)",
      "metadata": {}
    },
    {
      "cell_type": "markdown",
      "source": "## Author\nFatima",
      "metadata": {}
    },
    {
      "cell_type": "code",
      "source": "",
      "metadata": {
        "trusted": true
      },
      "outputs": [],
      "execution_count": null
    }
  ]
}